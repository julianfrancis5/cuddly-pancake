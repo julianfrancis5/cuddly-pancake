{
 "cells": [
  {
   "cell_type": "code",
   "execution_count": 10,
   "id": "00c8e8da",
   "metadata": {},
   "outputs": [],
   "source": [
    "import numpy as np"
   ]
  },
  {
   "cell_type": "code",
   "execution_count": 3,
   "id": "4998e27f",
   "metadata": {},
   "outputs": [
    {
     "data": {
      "text/plain": [
       "numpy.ndarray"
      ]
     },
     "execution_count": 3,
     "metadata": {},
     "output_type": "execute_result"
    }
   ],
   "source": [
    "arr = np.array([5,7,6,8,9,88,99])\n",
    "type(arr)"
   ]
  },
  {
   "cell_type": "code",
   "execution_count": 4,
   "id": "85b1d0d3",
   "metadata": {},
   "outputs": [
    {
     "data": {
      "text/plain": [
       "array([2.23606798, 2.64575131, 2.44948974, 2.82842712, 3.        ,\n",
       "       9.38083152, 9.94987437])"
      ]
     },
     "execution_count": 4,
     "metadata": {},
     "output_type": "execute_result"
    }
   ],
   "source": [
    "arr**.5"
   ]
  },
  {
   "cell_type": "code",
   "execution_count": 5,
   "id": "b51184c9",
   "metadata": {},
   "outputs": [],
   "source": [
    "arr = np.array([[1,2,3],[4,5,6],[7,8,9]])"
   ]
  },
  {
   "cell_type": "code",
   "execution_count": 6,
   "id": "39cf8264",
   "metadata": {},
   "outputs": [
    {
     "data": {
      "text/plain": [
       "array([[1, 2, 3],\n",
       "       [4, 5, 6],\n",
       "       [7, 8, 9]])"
      ]
     },
     "execution_count": 6,
     "metadata": {},
     "output_type": "execute_result"
    }
   ],
   "source": [
    "arr"
   ]
  },
  {
   "cell_type": "code",
   "execution_count": 7,
   "id": "60adf6ff",
   "metadata": {},
   "outputs": [
    {
     "data": {
      "text/plain": [
       "array([[1],\n",
       "       [4],\n",
       "       [7]])"
      ]
     },
     "execution_count": 7,
     "metadata": {},
     "output_type": "execute_result"
    }
   ],
   "source": [
    "arr[:,0:1]"
   ]
  },
  {
   "cell_type": "code",
   "execution_count": 8,
   "id": "9448984a",
   "metadata": {},
   "outputs": [
    {
     "data": {
      "text/plain": [
       "array([[7, 8, 9]])"
      ]
     },
     "execution_count": 8,
     "metadata": {},
     "output_type": "execute_result"
    }
   ],
   "source": [
    "arr[2:,:]"
   ]
  },
  {
   "cell_type": "code",
   "execution_count": 14,
   "id": "a2121b58",
   "metadata": {
    "scrolled": true
   },
   "outputs": [
    {
     "data": {
      "text/plain": [
       "array([0. , 0.5, 1. , 1.5, 2. , 2.5, 3. , 3.5, 4. , 4.5, 5. , 5.5, 6. ,\n",
       "       6.5, 7. , 7.5, 8. , 8.5, 9. , 9.5])"
      ]
     },
     "execution_count": 14,
     "metadata": {},
     "output_type": "execute_result"
    }
   ],
   "source": [
    "arr2 = np.arange(0,10,.5)\n",
    "arr2"
   ]
  },
  {
   "cell_type": "code",
   "execution_count": 16,
   "id": "722fd6f3",
   "metadata": {},
   "outputs": [
    {
     "data": {
      "text/plain": [
       "array([[0., 0., 0.],\n",
       "       [0., 0., 0.],\n",
       "       [0., 0., 0.]])"
      ]
     },
     "execution_count": 16,
     "metadata": {},
     "output_type": "execute_result"
    }
   ],
   "source": [
    "z = np.zeros((3,3))\n",
    "z"
   ]
  },
  {
   "cell_type": "code",
   "execution_count": 17,
   "id": "16a07d4a",
   "metadata": {},
   "outputs": [],
   "source": [
    "z = np.zeros(4)"
   ]
  },
  {
   "cell_type": "code",
   "execution_count": 18,
   "id": "44eeac35",
   "metadata": {},
   "outputs": [
    {
     "data": {
      "text/plain": [
       "array([0., 0., 0., 0.])"
      ]
     },
     "execution_count": 18,
     "metadata": {},
     "output_type": "execute_result"
    }
   ],
   "source": [
    "z"
   ]
  },
  {
   "cell_type": "code",
   "execution_count": 19,
   "id": "24a5559e",
   "metadata": {},
   "outputs": [
    {
     "data": {
      "text/plain": [
       "array([[1., 1., 1., 1.],\n",
       "       [1., 1., 1., 1.],\n",
       "       [1., 1., 1., 1.],\n",
       "       [1., 1., 1., 1.],\n",
       "       [1., 1., 1., 1.]])"
      ]
     },
     "execution_count": 19,
     "metadata": {},
     "output_type": "execute_result"
    }
   ],
   "source": [
    "o1 = np.ones(5)\n",
    "o2 = np.ones((5,4))\n",
    "o1\n",
    "o2"
   ]
  },
  {
   "cell_type": "code",
   "execution_count": 20,
   "id": "053c0c56",
   "metadata": {},
   "outputs": [
    {
     "data": {
      "text/plain": [
       "array([1., 1., 1., 1., 1.])"
      ]
     },
     "execution_count": 20,
     "metadata": {},
     "output_type": "execute_result"
    }
   ],
   "source": [
    "o1"
   ]
  },
  {
   "cell_type": "code",
   "execution_count": 21,
   "id": "284a4393",
   "metadata": {},
   "outputs": [
    {
     "data": {
      "text/plain": [
       "array([[1., 1., 1., 1.],\n",
       "       [1., 1., 1., 1.],\n",
       "       [1., 1., 1., 1.],\n",
       "       [1., 1., 1., 1.],\n",
       "       [1., 1., 1., 1.]])"
      ]
     },
     "execution_count": 21,
     "metadata": {},
     "output_type": "execute_result"
    }
   ],
   "source": [
    "o2"
   ]
  },
  {
   "cell_type": "markdown",
   "id": "b3659320",
   "metadata": {},
   "source": [
    "# linspace"
   ]
  },
  {
   "cell_type": "markdown",
   "id": "e82723de",
   "metadata": {},
   "source": [
    "return evenly spaced numbers over a specified interval"
   ]
  },
  {
   "cell_type": "code",
   "execution_count": 22,
   "id": "f32507ad",
   "metadata": {},
   "outputs": [
    {
     "data": {
      "text/plain": [
       "array([ 1.,  4.,  7., 10., 13., 16., 19., 22., 25.])"
      ]
     },
     "execution_count": 22,
     "metadata": {},
     "output_type": "execute_result"
    }
   ],
   "source": [
    "L = np.linspace(1,25,9)\n",
    "L"
   ]
  },
  {
   "cell_type": "code",
   "execution_count": 23,
   "id": "3738c3e2",
   "metadata": {},
   "outputs": [
    {
     "data": {
      "text/plain": [
       "array([[ 1.,  4.,  7.],\n",
       "       [10., 13., 16.],\n",
       "       [19., 22., 25.]])"
      ]
     },
     "execution_count": 23,
     "metadata": {},
     "output_type": "execute_result"
    }
   ],
   "source": [
    "L3 = L.reshape(3,3)\n",
    "L3"
   ]
  },
  {
   "cell_type": "code",
   "execution_count": 24,
   "id": "7dc2b6b4",
   "metadata": {},
   "outputs": [
    {
     "data": {
      "text/plain": [
       "array([[0.94687169, 0.95700875, 0.75593755, 0.03745511],\n",
       "       [0.4158748 , 0.58274232, 0.25072454, 0.01334787],\n",
       "       [0.18274845, 0.74561294, 0.61114256, 0.05815833]])"
      ]
     },
     "execution_count": 24,
     "metadata": {},
     "output_type": "execute_result"
    }
   ],
   "source": [
    "import random\n",
    "arr = np.random.rand(3,4)\n",
    "arr"
   ]
  },
  {
   "cell_type": "code",
   "execution_count": 25,
   "id": "741c7e99",
   "metadata": {},
   "outputs": [
    {
     "data": {
      "text/plain": [
       "array([[0.1399513 , 0.74486302, 0.19840979, 0.70473292],\n",
       "       [0.92970348, 0.52027975, 0.40351867, 0.83008583],\n",
       "       [0.48812914, 0.59095977, 0.45987738, 0.27958191]])"
      ]
     },
     "execution_count": 25,
     "metadata": {},
     "output_type": "execute_result"
    }
   ],
   "source": [
    "from numpy.random import rand\n",
    "arr_simp = rand(3,4)\n",
    "arr_simp"
   ]
  },
  {
   "cell_type": "markdown",
   "id": "51a88bdc",
   "metadata": {},
   "source": [
    "# randn"
   ]
  },
  {
   "cell_type": "markdown",
   "id": "0403b877",
   "metadata": {},
   "source": [
    "return a sample (or samples) from the 'standard normal' distribution; not uniform like rand"
   ]
  },
  {
   "cell_type": "code",
   "execution_count": 26,
   "id": "20c31eff",
   "metadata": {},
   "outputs": [
    {
     "data": {
      "text/plain": [
       "array([[ 0.81181359, -0.91986003],\n",
       "       [-0.4245504 ,  0.41914226],\n",
       "       [ 2.68557172,  0.22200826]])"
      ]
     },
     "execution_count": 26,
     "metadata": {},
     "output_type": "execute_result"
    }
   ],
   "source": [
    "from numpy.random import randn\n",
    "mat = randn(3,2)\n",
    "mat"
   ]
  },
  {
   "cell_type": "code",
   "execution_count": null,
   "id": "18cdf073",
   "metadata": {},
   "outputs": [],
   "source": []
  }
 ],
 "metadata": {
  "kernelspec": {
   "display_name": "Python 3 (ipykernel)",
   "language": "python",
   "name": "python3"
  },
  "language_info": {
   "codemirror_mode": {
    "name": "ipython",
    "version": 3
   },
   "file_extension": ".py",
   "mimetype": "text/x-python",
   "name": "python",
   "nbconvert_exporter": "python",
   "pygments_lexer": "ipython3",
   "version": "3.9.12"
  }
 },
 "nbformat": 4,
 "nbformat_minor": 5
}
