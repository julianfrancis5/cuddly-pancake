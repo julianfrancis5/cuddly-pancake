{
 "cells": [
  {
   "cell_type": "markdown",
   "id": "c775d5a0",
   "metadata": {},
   "source": [
    "# Day 4"
   ]
  },
  {
   "cell_type": "markdown",
   "id": "d27ef66d",
   "metadata": {},
   "source": [
    "* Data Types\n",
    "    * numbers\n",
    "    * strings\n",
    "    * variable assignment\n",
    "    * printing\n",
    "    * strings methods\n",
    "    * lists\n",
    "    * dicts\n",
    "    * booleans\n",
    "    * tuples\n",
    "    * sets\n",
    "* Operations\n",
    "    * comparison operators\n",
    "    * if, elif, else statements\n",
    "    * for loops\n",
    "    * while loops\n",
    "    * range()\n",
    "    * list comprehension\n",
    "    * functions\n",
    "    * lambda expressions\n",
    "    * map and filter"
   ]
  },
  {
   "cell_type": "code",
   "execution_count": null,
   "id": "6801c01e",
   "metadata": {},
   "outputs": [],
   "source": [
    "* Integers"
   ]
  },
  {
   "cell_type": "code",
   "execution_count": null,
   "id": "67d60073",
   "metadata": {},
   "outputs": [],
   "source": [
    "# f string"
   ]
  },
  {
   "cell_type": "code",
   "execution_count": 3,
   "id": "08c7507c",
   "metadata": {},
   "outputs": [],
   "source": [
    "name = 'John'"
   ]
  },
  {
   "cell_type": "code",
   "execution_count": 6,
   "id": "50fa0bb8",
   "metadata": {},
   "outputs": [
    {
     "name": "stdout",
     "output_type": "stream",
     "text": [
      "Hello, John!\n"
     ]
    }
   ],
   "source": [
    "print(f\"Hello, {name}!\")"
   ]
  },
  {
   "cell_type": "markdown",
   "id": "5e78aa9e",
   "metadata": {},
   "source": [
    "# Lists\n",
    "Lists are used to store multiple items in a single variable. List members are created inside square brackets"
   ]
  },
  {
   "cell_type": "code",
   "execution_count": 1,
   "id": "90cea4df",
   "metadata": {},
   "outputs": [
    {
     "data": {
      "text/plain": [
       "['pineapple', 'orange', 'watermelon', 'cantoloupe']"
      ]
     },
     "execution_count": 1,
     "metadata": {},
     "output_type": "execute_result"
    }
   ],
   "source": [
    "a_list = ['pineapple', 'orange', 'watermelon', 'cantoloupe']\n",
    "a_list"
   ]
  },
  {
   "cell_type": "code",
   "execution_count": 2,
   "id": "7702a88c",
   "metadata": {},
   "outputs": [
    {
     "data": {
      "text/plain": [
       "list"
      ]
     },
     "execution_count": 2,
     "metadata": {},
     "output_type": "execute_result"
    }
   ],
   "source": [
    "type(a_list)"
   ]
  },
  {
   "cell_type": "code",
   "execution_count": 3,
   "id": "a1f0addd",
   "metadata": {},
   "outputs": [],
   "source": [
    "# Append method\n",
    "a_list.append('peach')"
   ]
  },
  {
   "cell_type": "code",
   "execution_count": 4,
   "id": "be91c1e2",
   "metadata": {},
   "outputs": [
    {
     "data": {
      "text/plain": [
       "['pineapple', 'orange', 'watermelon', 'cantoloupe', 'peach']"
      ]
     },
     "execution_count": 4,
     "metadata": {},
     "output_type": "execute_result"
    }
   ],
   "source": [
    "a_list"
   ]
  },
  {
   "cell_type": "code",
   "execution_count": 5,
   "id": "c14688d1",
   "metadata": {},
   "outputs": [
    {
     "data": {
      "text/plain": [
       "'orange'"
      ]
     },
     "execution_count": 5,
     "metadata": {},
     "output_type": "execute_result"
    }
   ],
   "source": [
    "a_list.pop(1)\n"
   ]
  },
  {
   "cell_type": "code",
   "execution_count": 6,
   "id": "34132200",
   "metadata": {},
   "outputs": [
    {
     "ename": "TypeError",
     "evalue": "'list' object is not callable",
     "output_type": "error",
     "traceback": [
      "\u001b[0;31m---------------------------------------------------------------------------\u001b[0m",
      "\u001b[0;31mTypeError\u001b[0m                                 Traceback (most recent call last)",
      "Input \u001b[0;32mIn [6]\u001b[0m, in \u001b[0;36m<cell line: 1>\u001b[0;34m()\u001b[0m\n\u001b[0;32m----> 1\u001b[0m \u001b[43ma_list\u001b[49m\u001b[43m(\u001b[49m\u001b[43m)\u001b[49m\n",
      "\u001b[0;31mTypeError\u001b[0m: 'list' object is not callable"
     ]
    }
   ],
   "source": [
    "a_list()"
   ]
  },
  {
   "cell_type": "code",
   "execution_count": 7,
   "id": "5e6e75ff",
   "metadata": {},
   "outputs": [
    {
     "name": "stdout",
     "output_type": "stream",
     "text": [
      "['pineapple', 'watermelon', 'cantoloupe', 'peach']\n"
     ]
    }
   ],
   "source": [
    "print(a_list)"
   ]
  },
  {
   "cell_type": "code",
   "execution_count": 8,
   "id": "d41f1d03",
   "metadata": {},
   "outputs": [
    {
     "data": {
      "text/plain": [
       "'peach'"
      ]
     },
     "execution_count": 8,
     "metadata": {},
     "output_type": "execute_result"
    }
   ],
   "source": [
    "a_list.pop()"
   ]
  },
  {
   "cell_type": "code",
   "execution_count": 9,
   "id": "2e993978",
   "metadata": {},
   "outputs": [
    {
     "name": "stdout",
     "output_type": "stream",
     "text": [
      "['pineapple', 'watermelon', 'cantoloupe']\n"
     ]
    }
   ],
   "source": [
    "print(a_list)"
   ]
  },
  {
   "cell_type": "code",
   "execution_count": 10,
   "id": "2de7a1a6",
   "metadata": {},
   "outputs": [
    {
     "data": {
      "text/plain": [
       "'cantoloupe'"
      ]
     },
     "execution_count": 10,
     "metadata": {},
     "output_type": "execute_result"
    }
   ],
   "source": [
    "a_list[-1]"
   ]
  },
  {
   "cell_type": "code",
   "execution_count": 11,
   "id": "94b55048",
   "metadata": {},
   "outputs": [],
   "source": [
    "nba = ['heat', 'bucks', 'celtics', 'sixers', 'bulls', 'cavs', 'hawks', 'wizards', 'raptors', 'nets']"
   ]
  },
  {
   "cell_type": "code",
   "execution_count": 12,
   "id": "5c103314",
   "metadata": {},
   "outputs": [
    {
     "name": "stdout",
     "output_type": "stream",
     "text": [
      "['heat', 'bucks', 'celtics', 'sixers', 'bulls', 'cavs', 'hawks', 'wizards', 'raptors', 'nets']\n"
     ]
    }
   ],
   "source": [
    "print(nba)"
   ]
  },
  {
   "cell_type": "code",
   "execution_count": 13,
   "id": "99bbdb24",
   "metadata": {},
   "outputs": [
    {
     "data": {
      "text/plain": [
       "'sixers'"
      ]
     },
     "execution_count": 13,
     "metadata": {},
     "output_type": "execute_result"
    }
   ],
   "source": [
    "nba.pop(3)\n"
   ]
  },
  {
   "cell_type": "code",
   "execution_count": 14,
   "id": "6d144ba3",
   "metadata": {},
   "outputs": [
    {
     "name": "stdout",
     "output_type": "stream",
     "text": [
      "['heat', 'bucks', 'celtics', 'bulls', 'cavs', 'hawks', 'wizards', 'raptors', 'nets']\n"
     ]
    }
   ],
   "source": [
    "print(nba)"
   ]
  },
  {
   "cell_type": "code",
   "execution_count": 15,
   "id": "131009bc",
   "metadata": {},
   "outputs": [],
   "source": [
    "nba.append('sixers')"
   ]
  },
  {
   "cell_type": "code",
   "execution_count": 16,
   "id": "7e1397c0",
   "metadata": {},
   "outputs": [
    {
     "data": {
      "text/plain": [
       "'sixers'"
      ]
     },
     "execution_count": 16,
     "metadata": {},
     "output_type": "execute_result"
    }
   ],
   "source": [
    "nba[-1]"
   ]
  },
  {
   "cell_type": "code",
   "execution_count": 17,
   "id": "3e0f798e",
   "metadata": {},
   "outputs": [
    {
     "data": {
      "text/plain": [
       "'sixers'"
      ]
     },
     "execution_count": 17,
     "metadata": {},
     "output_type": "execute_result"
    }
   ],
   "source": [
    "nba[9]"
   ]
  },
  {
   "cell_type": "code",
   "execution_count": 18,
   "id": "a5c58484",
   "metadata": {},
   "outputs": [
    {
     "ename": "ValueError",
     "evalue": "list.remove(x): x not in list",
     "output_type": "error",
     "traceback": [
      "\u001b[0;31m---------------------------------------------------------------------------\u001b[0m",
      "\u001b[0;31mValueError\u001b[0m                                Traceback (most recent call last)",
      "Input \u001b[0;32mIn [18]\u001b[0m, in \u001b[0;36m<cell line: 1>\u001b[0;34m()\u001b[0m\n\u001b[0;32m----> 1\u001b[0m \u001b[43mnba\u001b[49m\u001b[38;5;241;43m.\u001b[39;49m\u001b[43mremove\u001b[49m\u001b[43m(\u001b[49m\u001b[38;5;241;43m4\u001b[39;49m\u001b[43m)\u001b[49m\n",
      "\u001b[0;31mValueError\u001b[0m: list.remove(x): x not in list"
     ]
    }
   ],
   "source": [
    "nba.remove(4)"
   ]
  },
  {
   "cell_type": "code",
   "execution_count": 19,
   "id": "2d881a3d",
   "metadata": {},
   "outputs": [
    {
     "ename": "NameError",
     "evalue": "name 'sixers' is not defined",
     "output_type": "error",
     "traceback": [
      "\u001b[0;31m---------------------------------------------------------------------------\u001b[0m",
      "\u001b[0;31mNameError\u001b[0m                                 Traceback (most recent call last)",
      "Input \u001b[0;32mIn [19]\u001b[0m, in \u001b[0;36m<cell line: 1>\u001b[0;34m()\u001b[0m\n\u001b[0;32m----> 1\u001b[0m nba\u001b[38;5;241m.\u001b[39mremove(\u001b[43msixers\u001b[49m)\n",
      "\u001b[0;31mNameError\u001b[0m: name 'sixers' is not defined"
     ]
    }
   ],
   "source": [
    "nba.remove(sixers)"
   ]
  },
  {
   "cell_type": "code",
   "execution_count": 24,
   "id": "48459876",
   "metadata": {},
   "outputs": [
    {
     "ename": "ValueError",
     "evalue": "list.remove(x): x not in list",
     "output_type": "error",
     "traceback": [
      "\u001b[0;31m---------------------------------------------------------------------------\u001b[0m",
      "\u001b[0;31mValueError\u001b[0m                                Traceback (most recent call last)",
      "Input \u001b[0;32mIn [24]\u001b[0m, in \u001b[0;36m<cell line: 1>\u001b[0;34m()\u001b[0m\n\u001b[0;32m----> 1\u001b[0m \u001b[43mnba\u001b[49m\u001b[38;5;241;43m.\u001b[39;49m\u001b[43mremove\u001b[49m\u001b[43m(\u001b[49m\u001b[38;5;124;43m'\u001b[39;49m\u001b[38;5;124;43mwizards\u001b[39;49m\u001b[38;5;124;43m'\u001b[39;49m\u001b[43m)\u001b[49m\n",
      "\u001b[0;31mValueError\u001b[0m: list.remove(x): x not in list"
     ]
    }
   ],
   "source": [
    "nba.remove('wizards')"
   ]
  },
  {
   "cell_type": "code",
   "execution_count": 21,
   "id": "20f3978e",
   "metadata": {},
   "outputs": [
    {
     "data": {
      "text/plain": [
       "['heat',\n",
       " 'bucks',\n",
       " 'celtics',\n",
       " 'bulls',\n",
       " 'cavs',\n",
       " 'hawks',\n",
       " 'raptors',\n",
       " 'nets',\n",
       " 'sixers']"
      ]
     },
     "execution_count": 21,
     "metadata": {},
     "output_type": "execute_result"
    }
   ],
   "source": [
    "nba"
   ]
  },
  {
   "cell_type": "code",
   "execution_count": 22,
   "id": "2e738439",
   "metadata": {},
   "outputs": [],
   "source": [
    "nba2 = nba.copy()"
   ]
  },
  {
   "cell_type": "code",
   "execution_count": 23,
   "id": "7d78d027",
   "metadata": {},
   "outputs": [
    {
     "name": "stdout",
     "output_type": "stream",
     "text": [
      "['heat', 'bucks', 'celtics', 'bulls', 'cavs', 'hawks', 'raptors', 'nets', 'sixers']\n"
     ]
    }
   ],
   "source": [
    "print(nba2)"
   ]
  },
  {
   "cell_type": "markdown",
   "id": "40308104",
   "metadata": {},
   "source": [
    "# Dictionaries"
   ]
  },
  {
   "cell_type": "markdown",
   "id": "fa58fefd",
   "metadata": {},
   "source": [
    "- are uesd to store key:value pairs"
   ]
  },
  {
   "cell_type": "markdown",
   "id": "7fe59dbb",
   "metadata": {},
   "source": [
    "- items in a dictionary are created inside curly brackets {}"
   ]
  },
  {
   "cell_type": "code",
   "execution_count": 25,
   "id": "bd339c95",
   "metadata": {},
   "outputs": [],
   "source": [
    "#Example\n",
    "cars = {'Make':'Toyota', 'Model':'Land Cruiser', 'Year':2022}"
   ]
  },
  {
   "cell_type": "code",
   "execution_count": 26,
   "id": "9a46b7b9",
   "metadata": {},
   "outputs": [
    {
     "name": "stdout",
     "output_type": "stream",
     "text": [
      "{'Make': 'Toyota', 'Model': 'Land Cruiser'}\n"
     ]
    }
   ],
   "source": [
    "print(cars)"
   ]
  },
  {
   "cell_type": "code",
   "execution_count": 27,
   "id": "8563cb41",
   "metadata": {},
   "outputs": [
    {
     "name": "stdout",
     "output_type": "stream",
     "text": [
      "['heat', 'bucks', 'celtics', 'bulls', 'cavs', 'hawks', 'raptors', 'nets', 'sixers']\n"
     ]
    }
   ],
   "source": [
    "print(nba)"
   ]
  },
  {
   "cell_type": "code",
   "execution_count": 28,
   "id": "1237d918",
   "metadata": {},
   "outputs": [
    {
     "data": {
      "text/plain": [
       "'Toyota'"
      ]
     },
     "execution_count": 28,
     "metadata": {},
     "output_type": "execute_result"
    }
   ],
   "source": [
    "cars['Make']"
   ]
  },
  {
   "cell_type": "code",
   "execution_count": 29,
   "id": "9b813116",
   "metadata": {},
   "outputs": [
    {
     "name": "stdout",
     "output_type": "stream",
     "text": [
      "{'Make': 'Toyota', 'Model': 'Land Cruiser'}\n"
     ]
    }
   ],
   "source": [
    "print(cars)"
   ]
  },
  {
   "cell_type": "code",
   "execution_count": 30,
   "id": "b5522407",
   "metadata": {},
   "outputs": [],
   "source": [
    "cars = {'Make':'Toyota', 'Model':'Land Cruiser', 'Year':2022}"
   ]
  },
  {
   "cell_type": "code",
   "execution_count": 31,
   "id": "ad94abb4",
   "metadata": {},
   "outputs": [
    {
     "name": "stdout",
     "output_type": "stream",
     "text": [
      "{'Make': 'Toyota', 'Model': 'Land Cruiser', 'Year': 2022}\n"
     ]
    }
   ],
   "source": [
    "print(cars)"
   ]
  },
  {
   "cell_type": "code",
   "execution_count": 32,
   "id": "c029854a",
   "metadata": {},
   "outputs": [
    {
     "data": {
      "text/plain": [
       "{'Make': 'Toyota', 'Model': 'Land Cruiser', 'Year': 2023}"
      ]
     },
     "execution_count": 32,
     "metadata": {},
     "output_type": "execute_result"
    }
   ],
   "source": [
    "cars['Year'] = 2023\n",
    "cars"
   ]
  },
  {
   "cell_type": "code",
   "execution_count": 33,
   "id": "201cc2f2",
   "metadata": {},
   "outputs": [
    {
     "data": {
      "text/plain": [
       "{'Make': 'Ford', 'Model': 'Focus', 'Year': 2017}"
      ]
     },
     "execution_count": 33,
     "metadata": {},
     "output_type": "execute_result"
    }
   ],
   "source": [
    "cars['Make'] = 'Ford'\n",
    "cars['Model'] = 'Focus'\n",
    "cars['Year'] = 2017\n",
    "cars"
   ]
  },
  {
   "cell_type": "code",
   "execution_count": 34,
   "id": "ae47eb5b",
   "metadata": {},
   "outputs": [
    {
     "data": {
      "text/plain": [
       "{'Make': 'Ford', 'Model': 'Focus', 'Year': 2017, 'Color': 'red'}"
      ]
     },
     "execution_count": 34,
     "metadata": {},
     "output_type": "execute_result"
    }
   ],
   "source": [
    "cars['Color'] = 'red'\n",
    "cars"
   ]
  },
  {
   "cell_type": "code",
   "execution_count": 35,
   "id": "b7b43bb2",
   "metadata": {},
   "outputs": [
    {
     "data": {
      "text/plain": [
       "dict_keys(['Make', 'Model', 'Year', 'Color'])"
      ]
     },
     "execution_count": 35,
     "metadata": {},
     "output_type": "execute_result"
    }
   ],
   "source": [
    "cars.keys()"
   ]
  },
  {
   "cell_type": "code",
   "execution_count": 36,
   "id": "6b0b89ba",
   "metadata": {},
   "outputs": [
    {
     "data": {
      "text/plain": [
       "dict_values(['Ford', 'Focus', 2017, 'red'])"
      ]
     },
     "execution_count": 36,
     "metadata": {},
     "output_type": "execute_result"
    }
   ],
   "source": [
    "cars.values()"
   ]
  },
  {
   "cell_type": "code",
   "execution_count": 37,
   "id": "a9b78b32",
   "metadata": {},
   "outputs": [
    {
     "data": {
      "text/plain": [
       "{'Make': 'Ford', 'Model': 'Focus', 'Year': 2017, 'Color': 'Red'}"
      ]
     },
     "execution_count": 37,
     "metadata": {},
     "output_type": "execute_result"
    }
   ],
   "source": [
    "cars['Color'] = 'Red'\n",
    "cars"
   ]
  },
  {
   "cell_type": "code",
   "execution_count": 38,
   "id": "5b8ce7d2",
   "metadata": {},
   "outputs": [
    {
     "data": {
      "text/plain": [
       "dict_values(['Ford', 'Focus', 2017, 'Red'])"
      ]
     },
     "execution_count": 38,
     "metadata": {},
     "output_type": "execute_result"
    }
   ],
   "source": [
    "cars.values()"
   ]
  },
  {
   "cell_type": "code",
   "execution_count": 39,
   "id": "f111f71f",
   "metadata": {},
   "outputs": [
    {
     "ename": "KeyError",
     "evalue": "-1",
     "output_type": "error",
     "traceback": [
      "\u001b[0;31m---------------------------------------------------------------------------\u001b[0m",
      "\u001b[0;31mKeyError\u001b[0m                                  Traceback (most recent call last)",
      "Input \u001b[0;32mIn [39]\u001b[0m, in \u001b[0;36m<cell line: 1>\u001b[0;34m()\u001b[0m\n\u001b[1;32m      1\u001b[0m \u001b[38;5;28;01mfor\u001b[39;00m key \u001b[38;5;129;01min\u001b[39;00m \u001b[38;5;28mrange\u001b[39m(\u001b[38;5;28mlen\u001b[39m(cars)):\n\u001b[0;32m----> 2\u001b[0m     \u001b[38;5;28mprint\u001b[39m(\u001b[43mcars\u001b[49m\u001b[43m[\u001b[49m\u001b[43mkey\u001b[49m\u001b[38;5;241;43m-\u001b[39;49m\u001b[38;5;241;43m1\u001b[39;49m\u001b[43m]\u001b[49m)\n",
      "\u001b[0;31mKeyError\u001b[0m: -1"
     ]
    }
   ],
   "source": [
    "for key in range(len(cars)):\n",
    "    print(cars[key-1])"
   ]
  },
  {
   "cell_type": "code",
   "execution_count": 40,
   "id": "90523870",
   "metadata": {},
   "outputs": [
    {
     "ename": "KeyError",
     "evalue": "0",
     "output_type": "error",
     "traceback": [
      "\u001b[0;31m---------------------------------------------------------------------------\u001b[0m",
      "\u001b[0;31mKeyError\u001b[0m                                  Traceback (most recent call last)",
      "Input \u001b[0;32mIn [40]\u001b[0m, in \u001b[0;36m<cell line: 1>\u001b[0;34m()\u001b[0m\n\u001b[0;32m----> 1\u001b[0m \u001b[43mcars\u001b[49m\u001b[43m[\u001b[49m\u001b[38;5;241;43m0\u001b[39;49m\u001b[43m]\u001b[49m\n",
      "\u001b[0;31mKeyError\u001b[0m: 0"
     ]
    }
   ],
   "source": [
    "cars[0]"
   ]
  },
  {
   "cell_type": "code",
   "execution_count": 41,
   "id": "b4ac3ab8",
   "metadata": {},
   "outputs": [
    {
     "name": "stdout",
     "output_type": "stream",
     "text": [
      "Ford\n",
      "Focus\n",
      "2017\n",
      "Red\n"
     ]
    }
   ],
   "source": [
    "for key in cars:\n",
    "    print(cars[key])"
   ]
  },
  {
   "cell_type": "code",
   "execution_count": 42,
   "id": "90afcefa",
   "metadata": {},
   "outputs": [
    {
     "ename": "NameError",
     "evalue": "name 'value' is not defined",
     "output_type": "error",
     "traceback": [
      "\u001b[0;31m---------------------------------------------------------------------------\u001b[0m",
      "\u001b[0;31mNameError\u001b[0m                                 Traceback (most recent call last)",
      "Input \u001b[0;32mIn [42]\u001b[0m, in \u001b[0;36m<cell line: 1>\u001b[0;34m()\u001b[0m\n\u001b[1;32m      1\u001b[0m \u001b[38;5;28;01mfor\u001b[39;00m key \u001b[38;5;129;01min\u001b[39;00m cars:\n\u001b[0;32m----> 2\u001b[0m     \u001b[38;5;28mprint\u001b[39m(cars[\u001b[43mvalue\u001b[49m])\n",
      "\u001b[0;31mNameError\u001b[0m: name 'value' is not defined"
     ]
    }
   ],
   "source": [
    "for key in cars:\n",
    "    print(cars[value])"
   ]
  },
  {
   "cell_type": "code",
   "execution_count": 43,
   "id": "e5246567",
   "metadata": {},
   "outputs": [
    {
     "name": "stdout",
     "output_type": "stream",
     "text": [
      "Ford\n",
      "Focus\n",
      "2017\n",
      "Red\n"
     ]
    }
   ],
   "source": [
    "for value in cars:\n",
    "    print(cars[value])"
   ]
  },
  {
   "cell_type": "code",
   "execution_count": 44,
   "id": "9d310b3e",
   "metadata": {},
   "outputs": [
    {
     "data": {
      "text/plain": [
       "dict_items([('Make', 'Ford'), ('Model', 'Focus'), ('Year', 2017), ('Color', 'Red')])"
      ]
     },
     "execution_count": 44,
     "metadata": {},
     "output_type": "execute_result"
    }
   ],
   "source": [
    " cars.items()"
   ]
  },
  {
   "cell_type": "code",
   "execution_count": 45,
   "id": "50822f7f",
   "metadata": {},
   "outputs": [],
   "source": [
    "heat = {'Lowry':7, 'Herro':14, 'Butler':22, 'Adebayo':13, 'Haslem':40}"
   ]
  },
  {
   "cell_type": "code",
   "execution_count": 46,
   "id": "c7d1c379",
   "metadata": {},
   "outputs": [
    {
     "data": {
      "text/plain": [
       "{'Lowry': 7, 'Herro': 14, 'Butler': 22, 'Adebayo': 13, 'Haslem': 40}"
      ]
     },
     "execution_count": 46,
     "metadata": {},
     "output_type": "execute_result"
    }
   ],
   "source": [
    "heat"
   ]
  },
  {
   "cell_type": "code",
   "execution_count": 47,
   "id": "ff703c84",
   "metadata": {},
   "outputs": [],
   "source": [
    "heat['Lowry'] = 8\n"
   ]
  },
  {
   "cell_type": "code",
   "execution_count": 48,
   "id": "b9684f05",
   "metadata": {},
   "outputs": [
    {
     "data": {
      "text/plain": [
       "{'Lowry': 8, 'Herro': 14, 'Butler': 22, 'Adebayo': 13, 'Haslem': 40}"
      ]
     },
     "execution_count": 48,
     "metadata": {},
     "output_type": "execute_result"
    }
   ],
   "source": [
    "heat"
   ]
  },
  {
   "cell_type": "code",
   "execution_count": 49,
   "id": "df49e2a7",
   "metadata": {},
   "outputs": [
    {
     "ename": "SyntaxError",
     "evalue": "cannot assign to function call (3420028926.py, line 1)",
     "output_type": "error",
     "traceback": [
      "\u001b[0;36m  Input \u001b[0;32mIn [49]\u001b[0;36m\u001b[0m\n\u001b[0;31m    heat('Robinson') = 55\u001b[0m\n\u001b[0m    ^\u001b[0m\n\u001b[0;31mSyntaxError\u001b[0m\u001b[0;31m:\u001b[0m cannot assign to function call\n"
     ]
    }
   ],
   "source": [
    "heat('Robinson') = 55"
   ]
  },
  {
   "cell_type": "code",
   "execution_count": 50,
   "id": "278f5397",
   "metadata": {},
   "outputs": [],
   "source": [
    "heat['Robinson'] = 55"
   ]
  },
  {
   "cell_type": "code",
   "execution_count": 51,
   "id": "8dc7701b",
   "metadata": {},
   "outputs": [
    {
     "data": {
      "text/plain": [
       "{'Lowry': 8,\n",
       " 'Herro': 14,\n",
       " 'Butler': 22,\n",
       " 'Adebayo': 13,\n",
       " 'Haslem': 40,\n",
       " 'Robinson': 55}"
      ]
     },
     "execution_count": 51,
     "metadata": {},
     "output_type": "execute_result"
    }
   ],
   "source": [
    "heat"
   ]
  },
  {
   "cell_type": "code",
   "execution_count": null,
   "id": "68b15d33",
   "metadata": {},
   "outputs": [],
   "source": []
  }
 ],
 "metadata": {
  "kernelspec": {
   "display_name": "Python 3 (ipykernel)",
   "language": "python",
   "name": "python3"
  },
  "language_info": {
   "codemirror_mode": {
    "name": "ipython",
    "version": 3
   },
   "file_extension": ".py",
   "mimetype": "text/x-python",
   "name": "python",
   "nbconvert_exporter": "python",
   "pygments_lexer": "ipython3",
   "version": "3.9.12"
  }
 },
 "nbformat": 4,
 "nbformat_minor": 5
}
