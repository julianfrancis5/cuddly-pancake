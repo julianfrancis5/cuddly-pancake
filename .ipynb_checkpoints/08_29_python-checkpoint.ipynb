{
 "cells": [
  {
   "cell_type": "markdown",
   "id": "c775d5a0",
   "metadata": {},
   "source": [
    "# Day 4"
   ]
  },
  {
   "cell_type": "markdown",
   "id": "d27ef66d",
   "metadata": {},
   "source": [
    "* Data Types\n",
    "    * numbers\n",
    "    * strings\n",
    "    * variable assignment\n",
    "    * printing\n",
    "    * strings methods\n",
    "    * lists\n",
    "    * dicts\n",
    "    * booleans\n",
    "    * tuples\n",
    "    * sets\n",
    "* Operations\n",
    "    * comparison operators\n",
    "    * if, elif, else statements\n",
    "    * for loops\n",
    "    * while loops\n",
    "    * range()\n",
    "    * list comprehension\n",
    "    * functions\n",
    "    * lambda expressions\n",
    "    * map and filter"
   ]
  },
  {
   "cell_type": "code",
   "execution_count": null,
   "id": "6801c01e",
   "metadata": {},
   "outputs": [],
   "source": [
    "* Integers"
   ]
  },
  {
   "cell_type": "code",
   "execution_count": null,
   "id": "67d60073",
   "metadata": {},
   "outputs": [],
   "source": [
    "# f string"
   ]
  },
  {
   "cell_type": "code",
   "execution_count": 3,
   "id": "08c7507c",
   "metadata": {},
   "outputs": [],
   "source": [
    "name = 'John'"
   ]
  },
  {
   "cell_type": "code",
   "execution_count": 6,
   "id": "50fa0bb8",
   "metadata": {},
   "outputs": [
    {
     "name": "stdout",
     "output_type": "stream",
     "text": [
      "Hello, John!\n"
     ]
    }
   ],
   "source": [
    "print(f\"Hello, {name}!\")"
   ]
  },
  {
   "cell_type": "code",
   "execution_count": null,
   "id": "b505d961",
   "metadata": {},
   "outputs": [],
   "source": []
  }
 ],
 "metadata": {
  "kernelspec": {
   "display_name": "Python 3 (ipykernel)",
   "language": "python",
   "name": "python3"
  },
  "language_info": {
   "codemirror_mode": {
    "name": "ipython",
    "version": 3
   },
   "file_extension": ".py",
   "mimetype": "text/x-python",
   "name": "python",
   "nbconvert_exporter": "python",
   "pygments_lexer": "ipython3",
   "version": "3.9.12"
  }
 },
 "nbformat": 4,
 "nbformat_minor": 5
}
